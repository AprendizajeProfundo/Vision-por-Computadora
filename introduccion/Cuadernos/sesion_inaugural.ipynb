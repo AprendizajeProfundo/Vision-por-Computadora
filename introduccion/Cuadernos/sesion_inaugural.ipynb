{
 "cells": [
  {
   "cell_type": "markdown",
   "id": "71eb3c28-3fe8-431f-bf34-cca08334427e",
   "metadata": {},
   "source": [
    "<figure>\n",
    "<img src=\"../Imagenes/logo-final-ap.png\"  width=\"80\" height=\"80\" align=\"left\"/> \n",
    "</figure>\n",
    "\n",
    "# <span style=\"color:blue\"><left>Aprendizaje Profundo</left></span>"
   ]
  },
  {
   "cell_type": "markdown",
   "id": "792df1a9-fe7f-4f21-9925-41332f442084",
   "metadata": {},
   "source": [
    "# <span style=\"color:red\"><center>Visión por Computadora</center></span>\n",
    "## <span style=\"color:red\"><center>Sesión Inaugural</center></span>"
   ]
  },
  {
   "cell_type": "markdown",
   "id": "8ab42cb6-f0f7-4d8f-b8af-aef693d18c94",
   "metadata": {},
   "source": [
    "## <span style=\"color:blue\">Contenido</span>"
   ]
  },
  {
   "cell_type": "markdown",
   "id": "3dcc0d5d-44ab-4065-98d4-2268680bf304",
   "metadata": {},
   "source": [
    "* [¿Qué es la Visión por Computadora](#Qué-es-la-Visión-por-Computadora)\n"
   ]
  },
  {
   "cell_type": "markdown",
   "id": "79f25870-1ed0-4086-a26f-dbdfe05de80a",
   "metadata": {},
   "source": [
    "## <span style=\"color:blue\">Qué es la Visión por Computadora</span>"
   ]
  },
  {
   "cell_type": "markdown",
   "id": "d8ac7f50-3332-47f0-b8f6-1e1c2f3594a4",
   "metadata": {},
   "source": [
    "La mente humana es impresionante.\n",
    "\n",
    "<figure>\n",
    "<img src=\"../Imagenes/geranium-iberian_1.jpg\" width=\"400\" height=\"400\" align=\"center\"/> \n",
    "</figure>\n",
    "\n",
    "Solo observando esta imagen, somos capaces de discernir muchas cosas sobre esta: Las sombras, lejanías, enfoques, y más, con relativa facilidad.\n",
    "\n",
    "Los computadores, por supuesto, no tienen esa capacidad.\n",
    "\n",
    "en los inicios del desarrollo de la Inteligencia artificial, se pensaba que la obtención de información en el medio visual iba a ser una tarea sencilla. Algo muy alejado de la verdad\n",
    "\n",
    "<figure>\n",
    "<img src=\"../Imagenes/tasks.png\" width=\"200\" height=\"200\" align=\"center\"/> \n",
    "<figcaption>Fuente: xkcd.com</figcaption>\n",
    "</figure>\n",
    "\n",
    "¿Por qué es tan difícil esta tarea? Porque estamos haciendo lo inverso a lo usual.\n",
    "\n",
    "El campo de los gráficos de computador, en muchos casos, trata de simular el mundo y sus propiedades, y lo proyecta en una pantalla.\n",
    "\n",
    "<figure>\n",
    "<img src=\"../Imagenes/aloy-horizon-forbidden-west.gif\" width=\"300\" height=\"300\" align=\"center\"/> \n",
    "<figcaption>Fuente: Horizon Forbidden West</figcaption>\n",
    "</figure>"
   ]
  },
  {
   "cell_type": "code",
   "execution_count": null,
   "id": "82ebf626-4eb1-41fe-86b9-aec3aa426d9c",
   "metadata": {},
   "outputs": [],
   "source": []
  }
 ],
 "metadata": {
  "kernelspec": {
   "display_name": "Python 3 (ipykernel)",
   "language": "python",
   "name": "python3"
  },
  "language_info": {
   "codemirror_mode": {
    "name": "ipython",
    "version": 3
   },
   "file_extension": ".py",
   "mimetype": "text/x-python",
   "name": "python",
   "nbconvert_exporter": "python",
   "pygments_lexer": "ipython3",
   "version": "3.9.7"
  }
 },
 "nbformat": 4,
 "nbformat_minor": 5
}
