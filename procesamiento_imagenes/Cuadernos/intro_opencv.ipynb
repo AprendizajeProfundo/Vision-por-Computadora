{
 "cells": [
  {
   "cell_type": "markdown",
   "id": "abc8dbda-6dd3-4702-8e2f-55370afcb39f",
   "metadata": {},
   "source": [
    "<figure>\n",
    "<img src=\"../Imagenes/logo-final-ap.png\"  width=\"80\" height=\"80\" align=\"left\"/> \n",
    "</figure>\n",
    "\n",
    "# <span style=\"color:blue\"><left>Aprendizaje Profundo</left></span>"
   ]
  },
  {
   "cell_type": "markdown",
   "id": "6c838b6a-1d80-4db0-8194-337cb95bacf7",
   "metadata": {},
   "source": [
    "# <span style=\"color:red\"><center>Visión por Computadora</center></span>\n",
    "## <span style=\"color:red\"><center>Introducción a OpenCV</center></span>"
   ]
  },
  {
   "cell_type": "markdown",
   "id": "02f7244e-06bb-4d83-a2b4-d3cec0b44fba",
   "metadata": {},
   "source": [
    "## <span style=\"color:blue\">Contenido</span>"
   ]
  },
  {
   "cell_type": "markdown",
   "id": "7628e25d-9091-48ec-9c9f-12ab31ca629a",
   "metadata": {},
   "source": [
    "## <span style=\"color:blue\">Prólogo</span>\n",
    "\n",
    "OpenCV es la base y espina de los proyectos de visión artificial, por sus capacidades básicas de entrada y salida(I/O), hasta sus funciones complejas de transformaciones, procesamiento y deployment. Se comenzará el estudio de este paquete con la creación, lectura y procesamiento de imágenes"
   ]
  },
  {
   "cell_type": "markdown",
   "id": "88c17ef0-c9c1-46d2-99b9-26877d9123b8",
   "metadata": {},
   "source": [
    "## <span style=\"color:blue\">Prólogo</span>\n",
    "\n",
    "OpenCV es la base y espina de los proyectos de visión artificial, por sus capacidades básicas de entrada y salida(I/O), hasta sus funciones complejas de transformaciones, procesamiento y deployment. Se comenzará el estudio de este paquete con la creación, lectura y procesamiento de imágenes"
   ]
  },
  {
   "cell_type": "markdown",
   "id": "950db278-ca39-478a-a82f-d0515a2b191d",
   "metadata": {},
   "source": [
    "## <span style=\"color:blue\">Lectura/Escritura de archivos de imagen</span>\n",
    "\n",
    "OpenCV tiene dos funciones esenciales cuando se trabajan con imagenes fijas, y una que es buena de tener:\n",
    "\n",
    "- `imread` para cargar una imagen desde un archivo\n",
    "- `imwrite` para escribir una imagen a un archivo especificado\n",
    "- `imshow` para mostrar la imágen en un cuadro\n",
    "\n",
    "Aunque vamos a usar, principalmente OpenCV, es posible crear una imagen usando numPy"
   ]
  },
  {
   "cell_type": "code",
   "execution_count": 2,
   "id": "ae1423c7-88ac-49d9-a0e9-ec6aba713346",
   "metadata": {},
   "outputs": [
    {
     "name": "stdout",
     "output_type": "stream",
     "text": [
      "[[0 0 0]\n",
      " [0 0 0]\n",
      " [0 0 0]]\n"
     ]
    }
   ],
   "source": [
    "import numpy as np\n",
    "import cv2\n",
    "\n",
    "img = np.zeros((3,3), dtype = np.uint8)\n",
    "\n",
    "print(img)"
   ]
  },
  {
   "cell_type": "markdown",
   "id": "86842772-f0ea-4f4f-b9c9-185a07c38664",
   "metadata": {},
   "source": [
    "Acabamos de crear un cuadro negro de 3x3 pixeles. Lo importante es el argumento \"dtype\", el cual definimos como números enteros de 8 bits. Significa que tienen un rango de 0 a 255. 0 es negro y 255 es blanco, con el resto siendo rangos de gris. Cambiemos esto un poco"
   ]
  },
  {
   "cell_type": "code",
   "execution_count": 14,
   "id": "2a188f8f-c9ac-414d-a425-d5c08e88bd99",
   "metadata": {},
   "outputs": [
    {
     "name": "stdout",
     "output_type": "stream",
     "text": [
      "[[255 255 255]\n",
      " [255 255 255]\n",
      " [255 255 255]]\n",
      "[[200 198 190  21  12   4 249 172  13 145]\n",
      " [231 214 216  52  58  62 221 242  79 103]\n",
      " [ 63   9  99  72 112   8  40  48  17  89]\n",
      " [170 123 194 160  41  15 176  46 143  57]\n",
      " [246  95 187 164  10 179 131  18 106 191]\n",
      " [179  54 179 138 187 120 168 163  36   5]\n",
      " [ 46  49  75 147 236 161 247  54 239 253]\n",
      " [183  98  88 112 232  37 212   0  50 100]\n",
      " [253 200 246 250  44 100 203  49  49 146]\n",
      " [ 97  71  94 166 227 231 129  66 104 172]]\n"
     ]
    }
   ],
   "source": [
    "img2 = np.full((3, 3), 255, dtype = np.uint8) # cuadro 3x3 de color blanco\n",
    "img3 = np.random.randint(0,255, (10,10),dtype = np.uint8) # cuadro 3x3 de colores aleatorios\n",
    "print(img2)\n",
    "print(img3)"
   ]
  },
  {
   "cell_type": "markdown",
   "id": "8bbad36a-4d67-4f45-8be0-2648d2671b4f",
   "metadata": {},
   "source": [
    "En este momento solo tenemos la idea \"empirica\" del color a partir de los números. Vamos a ver los números como colores "
   ]
  },
  {
   "cell_type": "code",
   "execution_count": 15,
   "id": "caf270ac-6c7f-4dea-a3e8-64b8fa84d7bf",
   "metadata": {},
   "outputs": [],
   "source": [
    "cv2.imshow('black box',img) # pedimos que se abra una ventana con la imagen negra\n",
    "cv2.imshow('white box',img2) # pedimos que se abra una ventana con la imagen blanca\n",
    "cv2.imshow('random box',img3) # pedimos que se abra una ventana con la imagen aleatoria\n",
    "cv2.waitKey(0) #le decimos que espere a continuar la interpretación del código hasta que se use una tecla\n",
    "cv2.destroyAllWindows() # se cierran todas las ventanas creadas"
   ]
  },
  {
   "cell_type": "markdown",
   "id": "4ba8c0ac-70cc-4807-aff3-08b11c28e7f3",
   "metadata": {},
   "source": [
    "guardemos la última imagen en formato `.png`"
   ]
  },
  {
   "cell_type": "code",
   "execution_count": 16,
   "id": "aee3638f-d5ba-444e-9c2a-69f0783da350",
   "metadata": {},
   "outputs": [
    {
     "data": {
      "text/plain": [
       "True"
      ]
     },
     "execution_count": 16,
     "metadata": {},
     "output_type": "execute_result"
    }
   ],
   "source": [
    "cv2.imwrite(\"../Imagenes/random_box.png\", img3)"
   ]
  },
  {
   "cell_type": "code",
   "execution_count": null,
   "id": "2e59e689-392d-4d0e-8f7d-35c195fd9ec9",
   "metadata": {},
   "outputs": [],
   "source": []
  }
 ],
 "metadata": {
  "kernelspec": {
   "display_name": "Python 3 (ipykernel)",
   "language": "python",
   "name": "python3"
  },
  "language_info": {
   "codemirror_mode": {
    "name": "ipython",
    "version": 3
   },
   "file_extension": ".py",
   "mimetype": "text/x-python",
   "name": "python",
   "nbconvert_exporter": "python",
   "pygments_lexer": "ipython3",
   "version": "3.9.7"
  }
 },
 "nbformat": 4,
 "nbformat_minor": 5
}
